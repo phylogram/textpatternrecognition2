{
 "cells": [
  {
   "cell_type": "code",
   "execution_count": 1,
   "metadata": {},
   "outputs": [],
   "source": [
    "from textpatternrecognition.pattern import PatternParser"
   ]
  },
  {
   "cell_type": "markdown",
   "metadata": {},
   "source": [
    "Looking for *multiline* patterns that may overlap in a left to right and top down perspective"
   ]
  },
  {
   "cell_type": "markdown",
   "metadata": {},
   "source": [
    "for example pattern:"
   ]
  },
  {
   "cell_type": "code",
   "execution_count": 2,
   "metadata": {},
   "outputs": [
    {
     "name": "stdout",
     "output_type": "stream",
     "text": [
      "| |\n",
      "###O\n",
      "| |\n"
     ]
    }
   ],
   "source": [
    "print '''| |\n",
    "###O\n",
    "| |'''"
   ]
  },
  {
   "cell_type": "markdown",
   "metadata": {},
   "source": [
    "should be found 3 times in"
   ]
  },
  {
   "cell_type": "code",
   "execution_count": 3,
   "metadata": {},
   "outputs": [
    {
     "name": "stdout",
     "output_type": "stream",
     "text": [
      "                                       \n",
      "    | |                                \n",
      "    ###O                               \n",
      "    | |           | |                  \n",
      "                  ###O                 \n",
      "                  | |              | | \n",
      "                                   ###O\n",
      "                                   | | \n",
      "\n"
     ]
    }
   ],
   "source": [
    "print '''                                       \n",
    "    | |                                \n",
    "    ###O                               \n",
    "    | |           | |                  \n",
    "                  ###O                 \n",
    "                  | |              | | \n",
    "                                   ###O\n",
    "                                   | | \n",
    "'''"
   ]
  },
  {
   "cell_type": "markdown",
   "metadata": {},
   "source": [
    "## Content"
   ]
  },
  {
   "cell_type": "markdown",
   "metadata": {},
   "source": [
    "1. Finding Only One Pattern\n",
    "  1. Single-Line Pattern\n",
    "  2. Multi-Line Pattern\n",
    "2. Finding Multiple Patterns (with mixed line number and RegEx's)\n",
    "3. Some Performance Check – a little random"
   ]
  },
  {
   "cell_type": "markdown",
   "metadata": {},
   "source": [
    "# Finding Only One Pattern"
   ]
  },
  {
   "cell_type": "markdown",
   "metadata": {},
   "source": [
    "## Single Line Pattern"
   ]
  },
  {
   "cell_type": "code",
   "execution_count": 4,
   "metadata": {},
   "outputs": [],
   "source": [
    "pattern = 'ab'"
   ]
  },
  {
   "cell_type": "code",
   "execution_count": 5,
   "metadata": {},
   "outputs": [],
   "source": [
    "text_lines = [\n",
    "    'ab der zeile 0',\n",
    "    'wird über eine Datei',\n",
    "    'zeile für zeile',\n",
    "    'iteriert und gesucht',\n",
    "    'wie häufig das wort ab ab zeile 0 vorkommt', # works with utf-8, if using other encodings should handle it on file read level\n",
    "]"
   ]
  },
  {
   "cell_type": "code",
   "execution_count": 6,
   "metadata": {},
   "outputs": [],
   "source": [
    "pattern_parser = PatternParser(pattern)"
   ]
  },
  {
   "cell_type": "code",
   "execution_count": 7,
   "metadata": {},
   "outputs": [
    {
     "name": "stdout",
     "output_type": "stream",
     "text": [
      "0: 1\t(ab der zeile 0)\n",
      "1: 0\t(wird über eine Datei)\n",
      "2: 0\t(zeile für zeile)\n",
      "3: 0\t(iteriert und gesucht)\n",
      "4: 2\t(wie häufig das wort ab ab zeile 0 vorkommt)\n",
      "Found: 3\n"
     ]
    }
   ],
   "source": [
    "found = 0\n",
    "for n, line in enumerate(text_lines):\n",
    "    found_in_line = pattern_parser.parse_text(line)\n",
    "    print '{n}: {found_in_line}\\t({line})'.format(n=n, found_in_line=found_in_line, line=line)\n",
    "    found += found_in_line\n",
    "print 'Found:', found"
   ]
  },
  {
   "cell_type": "markdown",
   "metadata": {},
   "source": [
    "Log:"
   ]
  },
  {
   "cell_type": "code",
   "execution_count": 8,
   "metadata": {},
   "outputs": [
    {
     "name": "stdout",
     "output_type": "stream",
     "text": [
      "set([0, 24, 21])\n"
     ]
    }
   ],
   "source": [
    "print pattern_parser.found_patterns"
   ]
  },
  {
   "cell_type": "markdown",
   "metadata": {},
   "source": [
    "#### Let's do a regex!"
   ]
  },
  {
   "cell_type": "code",
   "execution_count": 9,
   "metadata": {},
   "outputs": [],
   "source": [
    "regex_pattern = 'a.'"
   ]
  },
  {
   "cell_type": "code",
   "execution_count": 10,
   "metadata": {},
   "outputs": [],
   "source": [
    "pattern_parser = PatternParser(regex_pattern, use_regex=True)"
   ]
  },
  {
   "cell_type": "code",
   "execution_count": 11,
   "metadata": {},
   "outputs": [
    {
     "name": "stdout",
     "output_type": "stream",
     "text": [
      "0: 1\t(ab der zeile 0)\n",
      "1: 1\t(wird über eine Datei)\n",
      "2: 0\t(zeile für zeile)\n",
      "3: 0\t(iteriert und gesucht)\n",
      "4: 3\t(wie häufig das wort ab ab zeile 0 vorkommt)\n",
      "Found: 5\n"
     ]
    }
   ],
   "source": [
    "found = 0\n",
    "for n, line in enumerate(text_lines):\n",
    "    found_in_line = pattern_parser.parse_text(line)\n",
    "    print '{n}: {found_in_line}\\t({line})'.format(n=n, found_in_line=found_in_line, line=line)\n",
    "    found += found_in_line\n",
    "print 'Found:', found"
   ]
  },
  {
   "cell_type": "markdown",
   "metadata": {},
   "source": [
    "## Multi Line Pattern"
   ]
  },
  {
   "cell_type": "markdown",
   "metadata": {},
   "source": [
    "### Bug-1.txt"
   ]
  },
  {
   "cell_type": "code",
   "execution_count": 12,
   "metadata": {},
   "outputs": [
    {
     "name": "stdout",
     "output_type": "stream",
     "text": [
      "| |\n",
      "###O\n",
      "| |\n"
     ]
    }
   ],
   "source": [
    "bug_1_pattern = '''| |\n",
    "###O\n",
    "| |'''\n",
    "print bug_1_pattern"
   ]
  },
  {
   "cell_type": "markdown",
   "metadata": {},
   "source": [
    "### landscape1.txt"
   ]
  },
  {
   "cell_type": "code",
   "execution_count": 13,
   "metadata": {},
   "outputs": [
    {
     "name": "stdout",
     "output_type": "stream",
     "text": [
      "                                       \n",
      "    | |                                \n",
      "    ###O                               \n",
      "    | |           | |                  \n",
      "                  ###O                 \n",
      "                  | |              | | \n",
      "                                   ###O\n",
      "                                   | | \n",
      "\n"
     ]
    }
   ],
   "source": [
    "landscape_1_text = '''                                       \n",
    "    | |                                \n",
    "    ###O                               \n",
    "    | |           | |                  \n",
    "                  ###O                 \n",
    "                  | |              | | \n",
    "                                   ###O\n",
    "                                   | | \n",
    "'''\n",
    "print landscape_1_text"
   ]
  },
  {
   "cell_type": "code",
   "execution_count": 14,
   "metadata": {},
   "outputs": [
    {
     "name": "stdout",
     "output_type": "stream",
     "text": [
      "0: 0\t(                                       )\n",
      "1: 0\t(    | |                                )\n",
      "2: 0\t(    ###O                               )\n",
      "3: 1\t(    | |           | |                  )\n",
      "4: 0\t(                  ###O                 )\n",
      "5: 1\t(                  | |              | | )\n",
      "6: 0\t(                                   ###O)\n",
      "7: 1\t(                                   | | )\n",
      "Found: 3\n"
     ]
    }
   ],
   "source": [
    "pattern_parser = PatternParser(bug_1_pattern)\n",
    "lines = landscape_1_text.splitlines()\n",
    "found = 0\n",
    "for n, line in enumerate(lines):\n",
    "    found_in_line = pattern_parser.parse_text(line)\n",
    "    print '{n}: {found_in_line}\\t({line})'.format(n=n, found_in_line=found_in_line, line=line)\n",
    "    found += found_in_line\n",
    "print 'Found:', found"
   ]
  },
  {
   "cell_type": "code",
   "execution_count": 15,
   "metadata": {},
   "outputs": [
    {
     "name": "stdout",
     "output_type": "stream",
     "text": [
      "set([18, 35, 4])\n"
     ]
    }
   ],
   "source": [
    "print pattern_parser.found_patterns"
   ]
  },
  {
   "cell_type": "markdown",
   "metadata": {},
   "source": [
    "# Finding multiple Patterns"
   ]
  },
  {
   "cell_type": "code",
   "execution_count": 16,
   "metadata": {},
   "outputs": [],
   "source": [
    "additional_pattern_regex = ':-.'"
   ]
  },
  {
   "cell_type": "code",
   "execution_count": 17,
   "metadata": {},
   "outputs": [],
   "source": [
    "pattern_parser_1 = PatternParser(bug_1_pattern, use_regex=False)\n",
    "pattern_parser_2 = PatternParser(additional_pattern_regex, use_regex=True)"
   ]
  },
  {
   "cell_type": "code",
   "execution_count": 18,
   "metadata": {},
   "outputs": [
    {
     "name": "stdout",
     "output_type": "stream",
     "text": [
      "                                       \n",
      "    | |                        :-)                 \n",
      "    ###O                               \n",
      "    | |           | |                  \n",
      "                  ###O                 \n",
      "                  | |              | | \n",
      "                                   ###O\n",
      "    :-(                            | | \n",
      "\n"
     ]
    }
   ],
   "source": [
    "landscape_1_text = '''                                       \n",
    "    | |                        :-)                 \n",
    "    ###O                               \n",
    "    | |           | |                  \n",
    "                  ###O                 \n",
    "                  | |              | | \n",
    "                                   ###O\n",
    "    :-(                            | | \n",
    "'''\n",
    "print landscape_1_text"
   ]
  },
  {
   "cell_type": "code",
   "execution_count": 19,
   "metadata": {},
   "outputs": [
    {
     "name": "stdout",
     "output_type": "stream",
     "text": [
      "3 bugs & 2 smileys found\n"
     ]
    }
   ],
   "source": [
    "bugs = 0\n",
    "smileys = 0\n",
    "for line in landscape_1_text.splitlines():\n",
    "    bugs += pattern_parser_1.parse_text(line)\n",
    "    smileys += pattern_parser_2.parse_text(line)\n",
    "print '{bugs} bugs & {smileys} smileys found'.format(bugs=bugs, smileys=smileys)"
   ]
  },
  {
   "cell_type": "code",
   "execution_count": 20,
   "metadata": {},
   "outputs": [
    {
     "name": "stdout",
     "output_type": "stream",
     "text": [
      "set([18, 35, 4])\n",
      "set([4, 31])\n"
     ]
    }
   ],
   "source": [
    "print pattern_parser_1.found_patterns\n",
    "print pattern_parser_2.found_patterns"
   ]
  },
  {
   "cell_type": "markdown",
   "metadata": {},
   "source": [
    "# Performance"
   ]
  },
  {
   "cell_type": "markdown",
   "metadata": {},
   "source": [
    "Not really a good performance test – I am just curious.\n",
    "\n",
    "By the way – this is run on a really slow laptop."
   ]
  },
  {
   "cell_type": "code",
   "execution_count": 21,
   "metadata": {},
   "outputs": [],
   "source": [
    "from random import choice\n",
    "from string import ascii_lowercase\n",
    "from timeit import timeit"
   ]
  },
  {
   "cell_type": "code",
   "execution_count": 22,
   "metadata": {},
   "outputs": [],
   "source": [
    "def generate_random_string(length=150):\n",
    "    return ''.join([choice(ascii_lowercase) for n in xrange(length)])"
   ]
  },
  {
   "cell_type": "code",
   "execution_count": 23,
   "metadata": {},
   "outputs": [],
   "source": [
    "def search_for_pattern_in_long_text(pattern='x\\ny\\nz\\n',lines=10**4, line_length=150, use_regex=True):\n",
    "    pattern_parser = PatternParser(pattern, use_regex=use_regex)\n",
    "    found = 0\n",
    "    for index in range(lines):\n",
    "        line = generate_random_string(length=line_length)\n",
    "        found += pattern_parser.parse_text(line)\n",
    "    return found"
   ]
  },
  {
   "cell_type": "code",
   "execution_count": 24,
   "metadata": {},
   "outputs": [
    {
     "data": {
      "text/plain": [
       "71"
      ]
     },
     "execution_count": 24,
     "metadata": {},
     "output_type": "execute_result"
    }
   ],
   "source": [
    "# Once for fun\n",
    "search_for_pattern_in_long_text()"
   ]
  },
  {
   "cell_type": "code",
   "execution_count": 25,
   "metadata": {},
   "outputs": [
    {
     "name": "stdout",
     "output_type": "stream",
     "text": [
      "1 loop, best of 3: 1.32 s per loop\n"
     ]
    }
   ],
   "source": [
    "%%timeit\n",
    "search_for_pattern_in_long_text(use_regex=True)"
   ]
  },
  {
   "cell_type": "code",
   "execution_count": 26,
   "metadata": {},
   "outputs": [
    {
     "name": "stdout",
     "output_type": "stream",
     "text": [
      "1 loop, best of 3: 1.33 s per loop\n"
     ]
    }
   ],
   "source": [
    "%%timeit\n",
    "search_for_pattern_in_long_text(use_regex=False)"
   ]
  },
  {
   "cell_type": "code",
   "execution_count": null,
   "metadata": {},
   "outputs": [],
   "source": []
  }
 ],
 "metadata": {
  "kernelspec": {
   "display_name": "Python 2",
   "language": "python",
   "name": "python2"
  },
  "language_info": {
   "codemirror_mode": {
    "name": "ipython",
    "version": 2
   },
   "file_extension": ".py",
   "mimetype": "text/x-python",
   "name": "python",
   "nbconvert_exporter": "python",
   "pygments_lexer": "ipython2",
   "version": "2.7.15+"
  }
 },
 "nbformat": 4,
 "nbformat_minor": 2
}
